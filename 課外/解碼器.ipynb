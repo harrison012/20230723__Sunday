{
 "cells": [
  {
   "cell_type": "code",
   "execution_count": 5,
   "metadata": {},
   "outputs": [
    {
     "name": "stdout",
     "output_type": "stream",
     "text": [
      "*CDC is the trademark of the Control Data Corporation.\n"
     ]
    }
   ],
   "source": [
    "cipher = input()\n",
    "a = ''\n",
    "for s in cipher:\n",
    "    a+=chr(ord(s) - 7)\n",
    "print(a)"
   ]
  },
  {
   "cell_type": "code",
   "execution_count": 6,
   "metadata": {},
   "outputs": [
    {
     "name": "stdout",
     "output_type": "stream",
     "text": [
      "1\n",
      "2\n",
      "3\n",
      "4\n",
      "5\n",
      "6\n",
      "8\n",
      "9\n",
      "10\n",
      "11\n",
      "12\n",
      "13\n",
      "15\n",
      "16\n",
      "17\n",
      "18\n",
      "19\n",
      "20\n",
      "22\n",
      "23\n",
      "24\n",
      "25\n",
      "26\n",
      "27\n",
      "29\n",
      "30\n",
      "31\n",
      "32\n",
      "33\n",
      "34\n",
      "36\n",
      "37\n",
      "38\n",
      "39\n",
      "40\n",
      "41\n",
      "43\n",
      "44\n",
      "45\n",
      "46\n",
      "47\n",
      "48\n",
      "50\n"
     ]
    }
   ],
   "source": [
    "n = int(input(\"請輸入一個數字:\"))\n",
    "a = range(1,n+1)\n",
    "for number in a:\n",
    "    if n == 0:\n",
    "        break\n",
    "    elif number%7!= 0:\n",
    "        print(number)"
   ]
  },
  {
   "cell_type": "code",
   "execution_count": 7,
   "metadata": {},
   "outputs": [
    {
     "name": "stdout",
     "output_type": "stream",
     "text": [
      "504\n"
     ]
    }
   ],
   "source": [
    "x = 1\n",
    "for s  in input():\n",
    "    x *= int(s)\n",
    "print(x)"
   ]
  },
  {
   "cell_type": "code",
   "execution_count": 14,
   "metadata": {},
   "outputs": [
    {
     "name": "stdout",
     "output_type": "stream",
     "text": [
      "大吉\n"
     ]
    }
   ],
   "source": [
    "M = int(input(\"請輸入月份\"))\n",
    "D = int(input(\"請輸入日\"))\n",
    "S = (M*2+D)%3\n",
    "if M<0 or M>12:\n",
    "    print(\"請重新輸入\")\n",
    "elif D<0|D>31:\n",
    "    print(\"請重新輸入\")\n",
    "elif M%2==0 and D>30:\n",
    "    print(\"請重新輸入\")\n",
    "elif M%2==1 and D>31:\n",
    "    print(\"請重新輸入\")\n",
    "elif S == 0 :\n",
    "    print(\"普通\")\n",
    "elif S== 1:\n",
    "    print(\"吉\")\n",
    "elif S ==2:\n",
    "    print(\"大吉\")\n"
   ]
  },
  {
   "cell_type": "code",
   "execution_count": 10,
   "metadata": {},
   "outputs": [
    {
     "name": "stdout",
     "output_type": "stream",
     "text": [
      "1 2 4 8 16\n",
      "1 2 4 8 16\n"
     ]
    },
    {
     "ename": "IndexError",
     "evalue": "list index out of range",
     "output_type": "error",
     "traceback": [
      "\u001b[0;31m---------------------------------------------------------------------------\u001b[0m",
      "\u001b[0;31mIndexError\u001b[0m                                Traceback (most recent call last)",
      "\u001b[1;32m/workspaces/20230723__Sunday/課外/解碼器.ipynb 儲存格 5\u001b[0m line \u001b[0;36m5\n\u001b[1;32m      <a href='vscode-notebook-cell://codespaces%2Bharrison012-special-spork-x5wrj6w59v47f6gr7/workspaces/20230723__Sunday/%E8%AA%B2%E5%A4%96/%E8%A7%A3%E7%A2%BC%E5%99%A8.ipynb#W4sdnNjb2RlLXJlbW90ZQ%3D%3D?line=2'>3</a>\u001b[0m \u001b[39mfor\u001b[39;00m i \u001b[39min\u001b[39;00m \u001b[39mrange\u001b[39m(t):\n\u001b[1;32m      <a href='vscode-notebook-cell://codespaces%2Bharrison012-special-spork-x5wrj6w59v47f6gr7/workspaces/20230723__Sunday/%E8%AA%B2%E5%A4%96/%E8%A7%A3%E7%A2%BC%E5%99%A8.ipynb#W4sdnNjb2RlLXJlbW90ZQ%3D%3D?line=3'>4</a>\u001b[0m     seq \u001b[39m=\u001b[39m [\u001b[39mint\u001b[39m(i) \u001b[39mfor\u001b[39;00m i \u001b[39min\u001b[39;00m \u001b[39minput\u001b[39m()\u001b[39m.\u001b[39mstrip()\u001b[39m.\u001b[39msplit()]\n\u001b[0;32m----> <a href='vscode-notebook-cell://codespaces%2Bharrison012-special-spork-x5wrj6w59v47f6gr7/workspaces/20230723__Sunday/%E8%AA%B2%E5%A4%96/%E8%A7%A3%E7%A2%BC%E5%99%A8.ipynb#W4sdnNjb2RlLXJlbW90ZQ%3D%3D?line=4'>5</a>\u001b[0m     \u001b[39mif\u001b[39;00m seq[\u001b[39m2\u001b[39;49m] \u001b[39m+\u001b[39m seq[\u001b[39m0\u001b[39m] \u001b[39m==\u001b[39m \u001b[39m2\u001b[39m\u001b[39m*\u001b[39mseq[\u001b[39m1\u001b[39m]:\n\u001b[1;32m      <a href='vscode-notebook-cell://codespaces%2Bharrison012-special-spork-x5wrj6w59v47f6gr7/workspaces/20230723__Sunday/%E8%AA%B2%E5%A4%96/%E8%A7%A3%E7%A2%BC%E5%99%A8.ipynb#W4sdnNjb2RlLXJlbW90ZQ%3D%3D?line=5'>6</a>\u001b[0m         seq\u001b[39m.\u001b[39mappend(\u001b[39m2\u001b[39m\u001b[39m*\u001b[39mseq[\u001b[39m3\u001b[39m] \u001b[39m-\u001b[39m seq[\u001b[39m2\u001b[39m])\n\u001b[1;32m      <a href='vscode-notebook-cell://codespaces%2Bharrison012-special-spork-x5wrj6w59v47f6gr7/workspaces/20230723__Sunday/%E8%AA%B2%E5%A4%96/%E8%A7%A3%E7%A2%BC%E5%99%A8.ipynb#W4sdnNjb2RlLXJlbW90ZQ%3D%3D?line=6'>7</a>\u001b[0m         \u001b[39mprint\u001b[39m(\u001b[39m'\u001b[39m\u001b[39m \u001b[39m\u001b[39m'\u001b[39m\u001b[39m.\u001b[39mjoin([\u001b[39mstr\u001b[39m(i) \u001b[39mfor\u001b[39;00m i \u001b[39min\u001b[39;00m seq]))\n",
      "\u001b[0;31mIndexError\u001b[0m: list index out of range"
     ]
    }
   ],
   "source": [
    "t = int(input())\n",
    "\n",
    "for i in range(t):\n",
    "    seq = [int(i) for i in input().strip().split()]\n",
    "    if seq[2] + seq[0] == 2*seq[1]:\n",
    "        seq.append(2*seq[3] - seq[2])\n",
    "        print(' '.join([str(i) for i in seq]))\n",
    "    else:\n",
    "        seq.append(seq[3]**2//seq[2])\n",
    "        print(' '.join([str(i) for i in seq]))"
   ]
  }
 ],
 "metadata": {
  "kernelspec": {
   "display_name": "Python 3",
   "language": "python",
   "name": "python3"
  },
  "language_info": {
   "codemirror_mode": {
    "name": "ipython",
    "version": 3
   },
   "file_extension": ".py",
   "mimetype": "text/x-python",
   "name": "python",
   "nbconvert_exporter": "python",
   "pygments_lexer": "ipython3",
   "version": "3.10.12"
  },
  "orig_nbformat": 4
 },
 "nbformat": 4,
 "nbformat_minor": 2
}
