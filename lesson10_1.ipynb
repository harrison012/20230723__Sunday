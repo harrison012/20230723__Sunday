{
 "cells": [
  {
   "cell_type": "code",
   "execution_count": 1,
   "metadata": {},
   "outputs": [],
   "source": [
    "import re\n",
    "\n",
    "def isEmail(text:str) -> bool:\n",
    "    email_regex = re.compile(r'^\\w+([-+.]\\w+)*@\\w+([-.]\\w+)*\\.\\w+([-.]\\w+)*$')\n",
    "    if email_regex.match(text) is None:\n",
    "        return False\n",
    "    else:\n",
    "        return True"
   ]
  },
  {
   "cell_type": "code",
   "execution_count": 2,
   "metadata": {},
   "outputs": [
    {
     "name": "stdout",
     "output_type": "stream",
     "text": [
      "格式正確,email:harrisonchen01@gmail.com\n"
     ]
    }
   ],
   "source": [
    "email = input(\"請輸入email:\")\n",
    "if isEmail(text=email):\n",
    "    print(f\"格式正確,email:{email}\")\n",
    "else:\n",
    "    print(f\"email格式錯誤\")"
   ]
  },
  {
   "cell_type": "code",
   "execution_count": 2,
   "metadata": {},
   "outputs": [],
   "source": [
    "def math_express(op,value1,value2):\n",
    "    if op==\"+\":\n",
    "        return value1+value2\n",
    "    elif op==\"-\":\n",
    "        return value1-value2\n",
    "    elif op==\"*\":\n",
    "        return value1*value2\n",
    "    elif op==\"/\":\n",
    "        return value1/value2\n",
    "    else:\n",
    "        return 0"
   ]
  },
  {
   "cell_type": "code",
   "execution_count": 3,
   "metadata": {},
   "outputs": [
    {
     "data": {
      "text/plain": [
       "200"
      ]
     },
     "execution_count": 3,
     "metadata": {},
     "output_type": "execute_result"
    }
   ],
   "source": [
    "math_express(\"*\",10,20)\n"
   ]
  }
 ],
 "metadata": {
  "kernelspec": {
   "display_name": "Python 3",
   "language": "python",
   "name": "python3"
  },
  "language_info": {
   "codemirror_mode": {
    "name": "ipython",
    "version": 3
   },
   "file_extension": ".py",
   "mimetype": "text/x-python",
   "name": "python",
   "nbconvert_exporter": "python",
   "pygments_lexer": "ipython3",
   "version": "3.10.12"
  },
  "orig_nbformat": 4
 },
 "nbformat": 4,
 "nbformat_minor": 2
}
