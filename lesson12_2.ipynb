{
 "cells": [
  {
   "cell_type": "code",
   "execution_count": 9,
   "metadata": {},
   "outputs": [
    {
     "name": "stdout",
     "output_type": "stream",
     "text": [
      "目前存檔的檔案:\n",
      "['a4.csv', 'a3.csv', 'a1.csv', 'a2.csv']\n",
      "[['李立偉', '58', '55', '85', '82', '64'], ['黃志福', '97', '67', '81', '57', '94'], ['吳柏誠', '53', '51', '85', '64', '54'], ['元延辛', '87', '55', '62', '90', '85'], ['陳家年', '54', '83', '88', '56', '56'], ['林佳蓉', '66', '98', '92', '71', '70'], ['黃江旭', '70', '73', '70', '52', '66'], ['黃志福', '82', '94', '83', '90', '63'], ['林柏洋', '62', '88', '59', '69', '75'], ['唐翊修', '69', '80', '54', '78', '73'], ['呂傑宣', '71', '51', '93', '51', '66'], ['劉依婷', '96', '84', '94', '59', '50'], ['謝貞妃', '78', '72', '78', '79', '93'], ['李美洋', '85', '80', '75', '53', '66'], ['王展人', '86', '68', '60', '83', '62'], ['賴又琦', '95', '77', '100', '58', '82'], ['陳慧君', '63', '50', '94', '99', '68'], ['林佳慧', '94', '83', '69', '59', '85'], ['李淑芳', '55', '80', '78', '68', '52'], ['林佳人', '88', '55', '51', '96', '58']]\n"
     ]
    }
   ],
   "source": [
    "import os\n",
    "import csv\n",
    "root = os.path.abspath('./')\n",
    "directory = os.path.join(root,\"csv_data\")\n",
    "print(\"目前存檔的檔案:\")\n",
    "print(os.listdir(directory))\n",
    "\n",
    "\n",
    "fileName = input(\"您要載入的檔案是:\")\n",
    "filePath = os.path.join(root,\"csv_data\",fileName)\n",
    "with open(filePath,encoding='utf-8',newline='') as file:\n",
    "    csv_reader = csv.reader(file)\n",
    "    next(csv_reader)\n",
    "    students = list(csv_reader)\n",
    "print(students)"
   ]
  }
 ],
 "metadata": {
  "kernelspec": {
   "display_name": "Python 3",
   "language": "python",
   "name": "python3"
  },
  "language_info": {
   "codemirror_mode": {
    "name": "ipython",
    "version": 3
   },
   "file_extension": ".py",
   "mimetype": "text/x-python",
   "name": "python",
   "nbconvert_exporter": "python",
   "pygments_lexer": "ipython3",
   "version": "3.10.12"
  },
  "orig_nbformat": 4
 },
 "nbformat": 4,
 "nbformat_minor": 2
}
