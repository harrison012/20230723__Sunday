{
 "cells": [
  {
   "cell_type": "code",
   "execution_count": null,
   "metadata": {},
   "outputs": [],
   "source": [
    "for x in range(5):\n",
    "    print(x)"
   ]
  },
  {
   "cell_type": "code",
   "execution_count": null,
   "metadata": {},
   "outputs": [],
   "source": [
    "for x in range(15,20):\n",
    "    print(x)"
   ]
  },
  {
   "cell_type": "code",
   "execution_count": 8,
   "metadata": {},
   "outputs": [
    {
     "name": "stdout",
     "output_type": "stream",
     "text": [
      "1\n",
      "3\n",
      "5\n",
      "7\n",
      "9\n"
     ]
    }
   ],
   "source": [
    "for x in range(1,10,2):\n",
    "    print(x)\n"
   ]
  },
  {
   "cell_type": "code",
   "execution_count": 11,
   "metadata": {},
   "outputs": [
    {
     "name": "stdout",
     "output_type": "stream",
     "text": [
      "總合為:5050\n"
     ]
    }
   ],
   "source": [
    "#1~100的加總是多少\n",
    "total=0\n",
    "for x in range(1,101):\n",
    "    total+=x\n",
    "\n",
    "print(f\"總合為:{total}\")"
   ]
  },
  {
   "cell_type": "code",
   "execution_count": 16,
   "metadata": {},
   "outputs": [
    {
     "name": "stdout",
     "output_type": "stream",
     "text": [
      "偶數的總合為:7714506\n",
      "奇數的總合為:7711728\n"
     ]
    }
   ],
   "source": [
    "start= int(input(\"請輸入起始值:\"))\n",
    "end= int(input(\"請輸入終止值:\"))\n",
    "\n",
    "sintotal=0\n",
    "doutotal=0\n",
    "for x in range(start,end):\n",
    "    if x%2==0:\n",
    "        doutotal+=x\n",
    "    else:\n",
    "        sintotal+=x\n",
    "print(f\"偶數的總合為:{doutotal}\")\n",
    "print(f\"奇數的總合為:{sintotal}\")"
   ]
  },
  {
   "cell_type": "code",
   "execution_count": 49,
   "metadata": {},
   "outputs": [
    {
     "name": "stdout",
     "output_type": "stream",
     "text": [
      "1 * 1 = 1   1 * 2 = 2   1 * 3 = 3   1 * 4 = 4   1 * 5 = 5   1 * 6 = 6   1 * 7 = 7   1 * 8 = 8   1 * 9 = 9   \n",
      "2 * 1 = 2   2 * 2 = 4   2 * 3 = 6   2 * 4 = 8   2 * 5 =10   2 * 6 =12   2 * 7 =14   2 * 8 =16   2 * 9 =18   \n",
      "3 * 1 = 3   3 * 2 = 6   3 * 3 = 9   3 * 4 =12   3 * 5 =15   3 * 6 =18   3 * 7 =21   3 * 8 =24   3 * 9 =27   \n",
      "4 * 1 = 4   4 * 2 = 8   4 * 3 =12   4 * 4 =16   4 * 5 =20   4 * 6 =24   4 * 7 =28   4 * 8 =32   4 * 9 =36   \n",
      "5 * 1 = 5   5 * 2 =10   5 * 3 =15   5 * 4 =20   5 * 5 =25   5 * 6 =30   5 * 7 =35   5 * 8 =40   5 * 9 =45   \n",
      "6 * 1 = 6   6 * 2 =12   6 * 3 =18   6 * 4 =24   6 * 5 =30   6 * 6 =36   6 * 7 =42   6 * 8 =48   6 * 9 =54   \n",
      "7 * 1 = 7   7 * 2 =14   7 * 3 =21   7 * 4 =28   7 * 5 =35   7 * 6 =42   7 * 7 =49   7 * 8 =56   7 * 9 =63   \n",
      "8 * 1 = 8   8 * 2 =16   8 * 3 =24   8 * 4 =32   8 * 5 =40   8 * 6 =48   8 * 7 =56   8 * 8 =64   8 * 9 =72   \n",
      "9 * 1 = 9   9 * 2 =18   9 * 3 =27   9 * 4 =36   9 * 5 =45   9 * 6 =54   9 * 7 =63   9 * 8 =72   9 * 9 =81   \n"
     ]
    }
   ],
   "source": [
    "for i in range(1,10):\n",
    "    \n",
    "    for j in range(1,10):\n",
    "        print(f\"{i:<2d}*{j:>2d} ={j*i:2d}\",end='   ')\n",
    "    print()"
   ]
  },
  {
   "cell_type": "code",
   "execution_count": 18,
   "metadata": {},
   "outputs": [
    {
     "name": "stdout",
     "output_type": "stream",
     "text": [
      "1-2-3-4-5-6.\n"
     ]
    }
   ],
   "source": [
    "print(1, 2, 3, 4, 5, 6,sep='-',end='.\\n')"
   ]
  },
  {
   "cell_type": "code",
   "execution_count": 33,
   "metadata": {},
   "outputs": [
    {
     "name": "stdout",
     "output_type": "stream",
     "text": [
      "0\n",
      "1\n",
      "2\n",
      "3\n",
      "4\n"
     ]
    }
   ],
   "source": [
    "#break 跳出迴圈\n",
    "for i in range(10):\n",
    "    if i==5:\n",
    "        break\n",
    "    print(i)"
   ]
  },
  {
   "cell_type": "code",
   "execution_count": 44,
   "metadata": {},
   "outputs": [
    {
     "name": "stdout",
     "output_type": "stream",
     "text": [
      "2 3 4 5 6 7 8 9 10 11 12 13 14 15 16 17 18 19 20 21 22 23 24 25 26 27 28 29 30 31 32 33 34 35 36 37 38 39 40 41 42 43 44 45 46 47 48 49 50 51 52 53 54 55 56 57 58 59 60 61 62 63 64 65 66 67 68 69 70 71 72 73 74 75 76 77 78 79 80 81 82 83 84 85 86 87 88 89 90 91 92 93 94 95 96 97 98 99 100 \n"
     ]
    }
   ],
   "source": [
    "for i in range(1,101):\n",
    "    if (i!=1):\n",
    "        \n",
    "        print(i,end=' ')\n",
    "print()"
   ]
  },
  {
   "cell_type": "code",
   "execution_count": 45,
   "metadata": {},
   "outputs": [
    {
     "name": "stdout",
     "output_type": "stream",
     "text": [
      "2 3 4 5 6 7 8 9 10 11 12 13 14 15 16 17 18 19 20 21 22 23 24 25 26 27 28 29 30 31 32 33 34 35 36 37 38 39 40 41 42 43 44 45 46 47 48 49 50 51 52 53 54 55 56 57 58 59 60 61 62 63 64 65 66 67 68 69 70 71 72 73 74 75 76 77 78 79 80 81 82 83 84 85 86 87 88 89 90 91 92 93 94 95 96 97 98 99 100 \n"
     ]
    }
   ],
   "source": [
    "for i in range(1, 101):\n",
    "    if i == 1:\n",
    "        continue\n",
    "    print(i, end=' ')\n",
    "print()"
   ]
  },
  {
   "cell_type": "code",
   "execution_count": 52,
   "metadata": {},
   "outputs": [
    {
     "name": "stdout",
     "output_type": "stream",
     "text": [
      "1 2 3 4 5 6 7 8 9 10 11 12 13 14 15 16 17 18 19 20 21 22 23 24 25 26 27 28 29 30 31 32 33 34 35 36 37 38 39 40 41 42 43 44 45 46 47 48 49 50 51 52 53 54 55 56 57 58 59 60 61 62 63 64 65 66 67 68 69 70 71 72 73 74 75 76 77 78 79 80 81 82 83 84 85 86 87 88 89 90 91 92 93 94 95 96 97 98 99 100 \n"
     ]
    }
   ],
   "source": [
    "#請求1~100的質數\n",
    "\n",
    "for i in range(1, 101):\n",
    "    is_prime = True\n",
    "    if i == 1:\n",
    "        continue\n",
    "    for j in range(2,i):\n",
    "        if i % j == 0:\n",
    "            is_prime = False\n",
    "            break\n",
    "    if is_prime:\n",
    "        print(i, end=' ')\n",
    "print()"
   ]
  }
 ],
 "metadata": {
  "kernelspec": {
   "display_name": "Python 3",
   "language": "python",
   "name": "python3"
  },
  "language_info": {
   "codemirror_mode": {
    "name": "ipython",
    "version": 3
   },
   "file_extension": ".py",
   "mimetype": "text/x-python",
   "name": "python",
   "nbconvert_exporter": "python",
   "pygments_lexer": "ipython3",
   "version": "3.10.12"
  },
  "orig_nbformat": 4
 },
 "nbformat": 4,
 "nbformat_minor": 2
}
