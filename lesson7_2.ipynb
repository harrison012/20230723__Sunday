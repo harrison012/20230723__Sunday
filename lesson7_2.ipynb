{
 "cells": [
  {
   "cell_type": "code",
   "execution_count": 1,
   "metadata": {},
   "outputs": [
    {
     "name": "stdout",
     "output_type": "stream",
     "text": [
      "猜數字遊戲\n",
      "猜錯了!再小一點!\n",
      "你已經猜了1次\n",
      "猜錯了!再大一點!\n",
      "你已經猜了2次\n",
      "猜錯了!再大一點!\n",
      "你已經猜了3次\n",
      "賓果!答對了!答案是4\n",
      "遊戲結束\n",
      "共猜4次\n"
     ]
    }
   ],
   "source": [
    "import random\n",
    "min=1\n",
    "max=10\n",
    "target=random.randint(1,10)\n",
    "count=0\n",
    "print(\"猜數字遊戲\")\n",
    "while True:\n",
    "    count+=1\n",
    "    keyin=int(input(f\"猜數字範圍{min}-{max}:\"))\n",
    "    if keyin>=min and keyin<=max:\n",
    "        if keyin==target:\n",
    "            print(f\"賓果!答對了!答案是{target}\")\n",
    "            break\n",
    "        elif keyin>target:\n",
    "            print(\"猜錯了!再小一點!\")\n",
    "        elif keyin<target:\n",
    "            print(\"猜錯了!再大一點!\")    \n",
    "        print(f\"你已經猜了{count}次\")\n",
    "    else:\n",
    "        print(\"請輸入提示範圍內的數字:\")\n",
    "print(\"遊戲結束\")\n",
    "print(f\"共猜{count}次\")\n",
    "\n"
   ]
  },
  {
   "cell_type": "code",
   "execution_count": 4,
   "metadata": {},
   "outputs": [
    {
     "name": "stdout",
     "output_type": "stream",
     "text": [
      "猜數字遊戲\n",
      "猜錯了!再大一點!\n",
      "你已經猜了1次\n",
      "猜錯了!再小一點!\n",
      "你已經猜了2次\n",
      "猜錯了!再小一點!\n",
      "你已經猜了3次\n",
      "猜錯了!再小一點!\n",
      "你已經猜了4次\n",
      "賓果!答對了!答案是2\n",
      "猜數字遊戲\n"
     ]
    },
    {
     "ename": "ValueError",
     "evalue": "invalid literal for int() with base 10: 'n'",
     "output_type": "error",
     "traceback": [
      "\u001b[0;31m---------------------------------------------------------------------------\u001b[0m",
      "\u001b[0;31mValueError\u001b[0m                                Traceback (most recent call last)",
      "Cell \u001b[0;32mIn[4], line 10\u001b[0m\n\u001b[1;32m      8\u001b[0m \u001b[39mwhile\u001b[39;00m \u001b[39mTrue\u001b[39;00m:\n\u001b[1;32m      9\u001b[0m     count\u001b[39m+\u001b[39m\u001b[39m=\u001b[39m\u001b[39m1\u001b[39m\n\u001b[0;32m---> 10\u001b[0m     keyin\u001b[39m=\u001b[39m\u001b[39mint\u001b[39;49m(\u001b[39minput\u001b[39;49m(\u001b[39mf\u001b[39;49m\u001b[39m\"\u001b[39;49m\u001b[39m猜數字範圍\u001b[39;49m\u001b[39m{\u001b[39;49;00m\u001b[39mmin\u001b[39;49m\u001b[39m}\u001b[39;49;00m\u001b[39m-\u001b[39;49m\u001b[39m{\u001b[39;49;00m\u001b[39mmax\u001b[39;49m\u001b[39m}\u001b[39;49;00m\u001b[39m:\u001b[39;49m\u001b[39m\"\u001b[39;49m))\n\u001b[1;32m     11\u001b[0m     \u001b[39mif\u001b[39;00m keyin\u001b[39m>\u001b[39m\u001b[39m=\u001b[39m\u001b[39mmin\u001b[39m \u001b[39mand\u001b[39;00m keyin\u001b[39m<\u001b[39m\u001b[39m=\u001b[39m\u001b[39mmax\u001b[39m:\n\u001b[1;32m     12\u001b[0m         \u001b[39mif\u001b[39;00m keyin\u001b[39m==\u001b[39mtarget:\n",
      "\u001b[0;31mValueError\u001b[0m: invalid literal for int() with base 10: 'n'"
     ]
    }
   ],
   "source": [
    "import random\n",
    "while True: \n",
    "    min=1\n",
    "    max=10\n",
    "    target=random.randint(1,10)\n",
    "    count=0\n",
    "    print(\"猜數字遊戲\")\n",
    "    while True:\n",
    "        count+=1\n",
    "        keyin=int(input(f\"猜數字範圍{min}-{max}:\"))\n",
    "        if keyin>=min and keyin<=max:\n",
    "            if keyin==target:\n",
    "                print(f\"賓果!答對了!答案是{target}\")\n",
    "                break\n",
    "            elif keyin>target:\n",
    "                print(\"猜錯了!再小一點!\")\n",
    "            elif keyin<target:\n",
    "                print(\"猜錯了!再大一點!\")    \n",
    "            print(f\"你已經猜了{count}次\")\n",
    "        else:\n",
    "            print(\"請輸入提示範圍內的數字:\")\n",
    "    play_again=input(\"請問還要繼續嗎?(y,n)\")\n",
    "    if play_again=='n':\n",
    "        break\n",
    "print(\"遊戲結束\")"
   ]
  }
 ],
 "metadata": {
  "kernelspec": {
   "display_name": "Python 3",
   "language": "python",
   "name": "python3"
  },
  "language_info": {
   "codemirror_mode": {
    "name": "ipython",
    "version": 3
   },
   "file_extension": ".py",
   "mimetype": "text/x-python",
   "name": "python",
   "nbconvert_exporter": "python",
   "pygments_lexer": "ipython3",
   "version": "3.10.12"
  },
  "orig_nbformat": 4
 },
 "nbformat": 4,
 "nbformat_minor": 2
}
