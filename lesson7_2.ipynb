{
 "cells": [
  {
   "cell_type": "code",
   "execution_count": 3,
   "metadata": {},
   "outputs": [
    {
     "name": "stdout",
     "output_type": "stream",
     "text": [
      "猜數字遊戲\n",
      "猜錯了!\n",
      "你已經猜了1次\n",
      "猜錯了!\n",
      "你已經猜了2次\n",
      "猜錯了!\n",
      "你已經猜了3次\n",
      "猜錯了!\n",
      "你已經猜了4次\n",
      "賓果!答對了!答案是3\n",
      "遊戲結束\n",
      "共猜5次\n"
     ]
    }
   ],
   "source": [
    "import random\n",
    "min=1\n",
    "max=10\n",
    "target=random.randint(1,10)\n",
    "count=0\n",
    "print(\"猜數字遊戲\")\n",
    "while True:\n",
    "    count+=1\n",
    "    keyin=int(input(f\"猜數字範圍{min}-{max}:\"))\n",
    "    if keyin>=min and keyin<=max:\n",
    "        if keyin==target:\n",
    "            print(f\"賓果!答對了!答案是{target}\")\n",
    "            break\n",
    "        else:\n",
    "            print(\"猜錯了!\")\n",
    "            print(f\"你已經猜了{count}次\")\n",
    "    else:\n",
    "        print(\"請輸入提示範圍內的數字:\")\n",
    "print(\"遊戲結束\")\n",
    "print(f\"共猜{count}次\")\n"
   ]
  }
 ],
 "metadata": {
  "kernelspec": {
   "display_name": "Python 3",
   "language": "python",
   "name": "python3"
  },
  "language_info": {
   "codemirror_mode": {
    "name": "ipython",
    "version": 3
   },
   "file_extension": ".py",
   "mimetype": "text/x-python",
   "name": "python",
   "nbconvert_exporter": "python",
   "pygments_lexer": "ipython3",
   "version": "3.10.12"
  },
  "orig_nbformat": 4
 },
 "nbformat": 4,
 "nbformat_minor": 2
}
