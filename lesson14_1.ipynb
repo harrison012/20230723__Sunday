{
 "cells": [
  {
   "cell_type": "code",
   "execution_count": 1,
   "metadata": {},
   "outputs": [
    {
     "name": "stdout",
     "output_type": "stream",
     "text": [
      "下載成功\n"
     ]
    }
   ],
   "source": [
    "import requests\n",
    "#下載動作\n",
    "url = 'https://opendata.cwb.gov.tw/fileapi/v1/opendataapi/F-C0032-001?Authorization=rdec-key-123-45678-011121314&format=JSON'\n",
    "response = requests.get(url)\n",
    "if response.status_code == 200:\n",
    "    print(\"下載成功\")\n",
    "    "
   ]
  },
  {
   "cell_type": "code",
   "execution_count": 2,
   "metadata": {},
   "outputs": [],
   "source": [
    "#存檔\n",
    "with open(\"最新的氣象預測.json\",mode=\"w\",encoding=\"utf-8\") as file:\n",
    "    file.write(response.text)"
   ]
  },
  {
   "cell_type": "code",
   "execution_count": 3,
   "metadata": {},
   "outputs": [],
   "source": [
    "#使用json.loads()\n",
    "import json\n",
    "all_data = json.loads(response.text)\n"
   ]
  },
  {
   "cell_type": "code",
   "execution_count": 5,
   "metadata": {},
   "outputs": [
    {
     "ename": "KeyError",
     "evalue": "'cwbopendata'",
     "output_type": "error",
     "traceback": [
      "\u001b[0;31m---------------------------------------------------------------------------\u001b[0m",
      "\u001b[0;31mKeyError\u001b[0m                                  Traceback (most recent call last)",
      "\u001b[1;32m/workspaces/20230723__Sunday/lesson14_1.ipynb 儲存格 4\u001b[0m line \u001b[0;36m2\n\u001b[1;32m      <a href='vscode-notebook-cell://codespaces%2Bharrison012-special-spork-x5wrj6w59v47f6gr7/workspaces/20230723__Sunday/lesson14_1.ipynb#W3sdnNjb2RlLXJlbW90ZQ%3D%3D?line=0'>1</a>\u001b[0m \u001b[39m#將資料截取想要的內容,成為簡單的表格資料\u001b[39;00m\n\u001b[0;32m----> <a href='vscode-notebook-cell://codespaces%2Bharrison012-special-spork-x5wrj6w59v47f6gr7/workspaces/20230723__Sunday/lesson14_1.ipynb#W3sdnNjb2RlLXJlbW90ZQ%3D%3D?line=1'>2</a>\u001b[0m data_list \u001b[39m=\u001b[39m all_data[\u001b[39m'\u001b[39;49m\u001b[39mcwbopendata\u001b[39;49m\u001b[39m'\u001b[39;49m][\u001b[39m'\u001b[39m\u001b[39mdataset\u001b[39m\u001b[39m'\u001b[39m][\u001b[39m'\u001b[39m\u001b[39mlocation\u001b[39m\u001b[39m'\u001b[39m]\n\u001b[1;32m      <a href='vscode-notebook-cell://codespaces%2Bharrison012-special-spork-x5wrj6w59v47f6gr7/workspaces/20230723__Sunday/lesson14_1.ipynb#W3sdnNjb2RlLXJlbW90ZQ%3D%3D?line=2'>3</a>\u001b[0m weather_list \u001b[39m=\u001b[39m []\n\u001b[1;32m      <a href='vscode-notebook-cell://codespaces%2Bharrison012-special-spork-x5wrj6w59v47f6gr7/workspaces/20230723__Sunday/lesson14_1.ipynb#W3sdnNjb2RlLXJlbW90ZQ%3D%3D?line=3'>4</a>\u001b[0m \u001b[39mfor\u001b[39;00m item \u001b[39min\u001b[39;00m data_list:\n",
      "\u001b[0;31mKeyError\u001b[0m: 'cwbopendata'"
     ]
    }
   ],
   "source": [
    "#將資料截取想要的內容,成為簡單的表格資料\n",
    "data_list = all_data['cwbopendata']['dataset']['location']\n",
    "weather_list = []\n",
    "for item in data_list:\n",
    "    city_item = {}\n",
    "    city_item['城市'] = item['locationName']\n",
    "    city_item['啟始時間'] = item['weatherElement'][1]['time'][0]['startTime']\n",
    "    city_item['結束時間'] = item['weatherElement'][1]['time'][0]['endTime']\n",
    "    city_item['最高溫度'] = item['weatherElement'][1]['time'][0]['parameter']['parameterName']\n",
    "    city_item['最底溫度'] = item['weatherElement'][2]['time'][0]['parameter']['parameterName']\n",
    "    city_item['感覺'] = item['weatherElement'][3]['time'][0]['parameter']['parameterName']\n",
    "    weather_list.append(city_item)\n",
    "\n",
    "weather_list"
   ]
  },
  {
   "cell_type": "code",
   "execution_count": 6,
   "metadata": {},
   "outputs": [
    {
     "ename": "NameError",
     "evalue": "name 'weather_list' is not defined",
     "output_type": "error",
     "traceback": [
      "\u001b[0;31m---------------------------------------------------------------------------\u001b[0m",
      "\u001b[0;31mNameError\u001b[0m                                 Traceback (most recent call last)",
      "\u001b[1;32m/workspaces/20230723__Sunday/lesson14_1.ipynb 儲存格 5\u001b[0m line \u001b[0;36m7\n\u001b[1;32m      <a href='vscode-notebook-cell://codespaces%2Bharrison012-special-spork-x5wrj6w59v47f6gr7/workspaces/20230723__Sunday/lesson14_1.ipynb#W4sdnNjb2RlLXJlbW90ZQ%3D%3D?line=4'>5</a>\u001b[0m dict_writer \u001b[39m=\u001b[39m csv\u001b[39m.\u001b[39mDictWriter(file,fieldnames\u001b[39m=\u001b[39mfieldnames)\n\u001b[1;32m      <a href='vscode-notebook-cell://codespaces%2Bharrison012-special-spork-x5wrj6w59v47f6gr7/workspaces/20230723__Sunday/lesson14_1.ipynb#W4sdnNjb2RlLXJlbW90ZQ%3D%3D?line=5'>6</a>\u001b[0m dict_writer\u001b[39m.\u001b[39mwriteheader()\n\u001b[0;32m----> <a href='vscode-notebook-cell://codespaces%2Bharrison012-special-spork-x5wrj6w59v47f6gr7/workspaces/20230723__Sunday/lesson14_1.ipynb#W4sdnNjb2RlLXJlbW90ZQ%3D%3D?line=6'>7</a>\u001b[0m dict_writer\u001b[39m.\u001b[39mwriterows(weather_list)\n",
      "\u001b[0;31mNameError\u001b[0m: name 'weather_list' is not defined"
     ]
    }
   ],
   "source": [
    "#儲存為csv\n",
    "import csv\n",
    "with open('最新的氣象預測.csv',mode='w',encoding='utf-8',newline='') as file:\n",
    "    fieldnames = ['城市','啟始時間','結束時間','最高溫度','最底溫度','感覺']\n",
    "    dict_writer = csv.DictWriter(file,fieldnames=fieldnames)\n",
    "    dict_writer.writeheader()\n",
    "    dict_writer.writerows(weather_list)\n"
   ]
  }
 ],
 "metadata": {
  "kernelspec": {
   "display_name": "Python 3",
   "language": "python",
   "name": "python3"
  },
  "language_info": {
   "codemirror_mode": {
    "name": "ipython",
    "version": 3
   },
   "file_extension": ".py",
   "mimetype": "text/x-python",
   "name": "python",
   "nbconvert_exporter": "python",
   "pygments_lexer": "ipython3",
   "version": "3.10.12"
  },
  "orig_nbformat": 4
 },
 "nbformat": 4,
 "nbformat_minor": 2
}
