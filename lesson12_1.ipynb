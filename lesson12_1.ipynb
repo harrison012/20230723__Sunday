{
 "cells": [
  {
   "cell_type": "code",
   "execution_count": 1,
   "metadata": {},
   "outputs": [
    {
     "name": "stdout",
     "output_type": "stream",
     "text": [
      ".csv存檔完成\n"
     ]
    }
   ],
   "source": [
    "import os\n",
    "import student\n",
    "\n",
    "file_name = input(\"請輸入要存檔的檔案名稱:\")\n",
    "root = os.path.abspath(path=\"./\")\n",
    "filePath = os.path.join(root,'csv_data',f'{file_name}.csv')\n",
    "\n",
    "students = student.get_students(student_num=30)\n",
    "students\n",
    "\n",
    "import csv\n",
    "with open(filePath,mode='w',encoding='utf-8',newline='') as file:\n",
    "    csv_writer = csv.writer(file)\n",
    "    csv_writer.writerow(['姓名', \"國文\", \"英文\", \"數學\", \"社會\", \"地理\"])\n",
    "    csv_writer.writerows(students)\n",
    "\n",
    "print(f\"{file_name}.csv存檔完成\")"
   ]
  },
  {
   "cell_type": "code",
   "execution_count": 5,
   "metadata": {},
   "outputs": [
    {
     "data": {
      "text/plain": [
       "[['林佳蓉', 93, 60, 98, 85, 84],\n",
       " ['尚偉倫', 56, 71, 58, 74, 52],\n",
       " ['林益妏', 67, 83, 91, 62, 79],\n",
       " ['陳信念', 57, 95, 91, 94, 89],\n",
       " ['張莉雯', 83, 98, 96, 75, 71],\n",
       " ['翁鈺婷', 59, 86, 87, 83, 100],\n",
       " ['陳建豪', 90, 57, 100, 89, 97],\n",
       " ['黃翔杰', 75, 66, 84, 81, 86],\n",
       " ['趙家豪', 62, 68, 58, 74, 52],\n",
       " ['鄭奇翰', 52, 97, 74, 53, 81],\n",
       " ['張家秀', 100, 51, 62, 77, 61],\n",
       " ['余宗儒', 70, 75, 73, 72, 80],\n",
       " ['葉志峰', 84, 100, 97, 51, 85],\n",
       " ['翁鈺婷', 71, 81, 77, 94, 78],\n",
       " ['王筱婷', 82, 59, 75, 100, 58],\n",
       " ['林麗萍', 52, 56, 66, 69, 69],\n",
       " ['鄭孟芳', 76, 51, 72, 83, 51],\n",
       " ['謝佳穎', 99, 69, 84, 64, 87],\n",
       " ['胡淑貞', 57, 65, 54, 62, 65],\n",
       " ['蒙淑惠', 92, 79, 88, 84, 90],\n",
       " ['郎慧萍', 59, 63, 50, 100, 89],\n",
       " ['吳晴洋', 54, 94, 100, 53, 63],\n",
       " ['潘英迪', 83, 92, 53, 67, 70],\n",
       " ['陳家維', 80, 58, 88, 95, 98],\n",
       " ['盧冠發', 53, 85, 66, 83, 66],\n",
       " ['王人仰', 68, 80, 73, 88, 74],\n",
       " ['黃雅慧', 71, 63, 82, 77, 59],\n",
       " ['李政成', 91, 69, 81, 83, 59],\n",
       " ['林昱芳', 65, 76, 73, 99, 76],\n",
       " ['林昱芳', 71, 68, 55, 69, 81],\n",
       " ['彭偉妃', 69, 75, 50, 89, 82],\n",
       " ['劉依婷', 91, 97, 91, 74, 69],\n",
       " ['方雅慧', 73, 72, 98, 93, 99],\n",
       " ['王德城', 61, 83, 64, 85, 59],\n",
       " ['王士銘', 75, 72, 54, 59, 72],\n",
       " ['陳奇瑄', 66, 78, 96, 86, 68],\n",
       " ['高智超', 58, 98, 80, 56, 58],\n",
       " ['艾巧夫', 80, 84, 83, 54, 93],\n",
       " ['游一鈺', 62, 68, 66, 51, 52],\n",
       " ['崔孝憲', 69, 94, 71, 99, 69]]"
      ]
     },
     "metadata": {},
     "output_type": "display_data"
    },
    {
     "name": "stdout",
     "output_type": "stream",
     "text": [
      "a4.csv存檔完成\n"
     ]
    }
   ],
   "source": [
    "import csv\n",
    "nums = int(input(\"請輸入學生數:\"))\n",
    "students = student.get_students(student_num=nums)\n",
    "display(students)\n",
    "\n",
    "fileName = input(\"請問存檔名稱:(名稱,n)\")\n",
    "if fileName != 'n':\n",
    "    root = os.path.abspath(path=\"./\")\n",
    "    filePath = os.path.join(root,'csv_data',f'{fileName}.csv')\n",
    "    with open(filePath,mode='w',encoding='utf-8',newline='') as file:\n",
    "        csv_writer = csv.writer(file)\n",
    "        csv_writer.writerow(['姓名', \"國文\", \"英文\", \"數學\", \"社會\", \"地理\"])\n",
    "        csv_writer.writerows(students)\n",
    "    print(f\"{fileName}.csv存檔完成\")\n",
    "else:\n",
    "    print(\"應用程式結束\")"
   ]
  }
 ],
 "metadata": {
  "kernelspec": {
   "display_name": "Python 3",
   "language": "python",
   "name": "python3"
  },
  "language_info": {
   "codemirror_mode": {
    "name": "ipython",
    "version": 3
   },
   "file_extension": ".py",
   "mimetype": "text/x-python",
   "name": "python",
   "nbconvert_exporter": "python",
   "pygments_lexer": "ipython3",
   "version": "3.10.12"
  },
  "orig_nbformat": 4
 },
 "nbformat": 4,
 "nbformat_minor": 2
}
