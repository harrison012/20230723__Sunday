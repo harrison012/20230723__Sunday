{
 "cells": [
  {
   "cell_type": "code",
   "execution_count": 1,
   "metadata": {},
   "outputs": [
    {
     "data": {
      "text/plain": [
       "[['郭舜昇', 79, 100, 83, 51, 60],\n",
       " ['林向鈺', 100, 63, 55, 93, 85],\n",
       " ['蒙淑惠', 90, 62, 59, 93, 60],\n",
       " ['陳奇瑄', 66, 97, 99, 83, 93],\n",
       " ['王怡珊', 78, 67, 73, 96, 58],\n",
       " ['許淑婷', 52, 81, 75, 88, 75],\n",
       " ['陳怡珊', 85, 79, 64, 83, 100],\n",
       " ['趙家豪', 61, 60, 59, 62, 61],\n",
       " ['王筱婷', 77, 84, 67, 80, 56],\n",
       " ['陳信宏', 76, 90, 79, 64, 99],\n",
       " ['黃彥孝', 50, 61, 67, 91, 78],\n",
       " ['李政成', 92, 82, 64, 86, 50],\n",
       " ['翁均安', 92, 94, 86, 100, 90],\n",
       " ['林士凱', 89, 52, 65, 84, 78],\n",
       " ['張婕妤', 69, 64, 75, 70, 100],\n",
       " ['游詩亞', 85, 53, 50, 82, 50],\n",
       " ['鄭憲定', 97, 95, 94, 73, 64],\n",
       " ['王士銘', 59, 61, 98, 76, 84],\n",
       " ['陳建香', 87, 62, 97, 75, 51],\n",
       " ['馮淑芬', 58, 85, 85, 100, 85],\n",
       " ['白世宏', 93, 90, 56, 95, 73],\n",
       " ['錢欣潔', 52, 67, 80, 52, 93],\n",
       " ['鄭憲定', 66, 98, 91, 98, 98],\n",
       " ['吳麗卿', 74, 50, 99, 97, 68],\n",
       " ['唐翊修', 89, 72, 74, 95, 90],\n",
       " ['陳彥治', 60, 73, 67, 89, 88],\n",
       " ['胡芳瑜', 50, 75, 94, 90, 51],\n",
       " ['林建宏', 60, 88, 77, 79, 63],\n",
       " ['胡淑貞', 50, 73, 83, 97, 100],\n",
       " ['謝貞妃', 78, 80, 95, 87, 76]]"
      ]
     },
     "execution_count": 1,
     "metadata": {},
     "output_type": "execute_result"
    }
   ],
   "source": [
    "import os\n",
    "import student\n",
    "\n",
    "file_name = input(\"請輸入要存檔的檔案名稱:\")\n",
    "root = os.path.abspath(path=\"./\")\n",
    "filePath = os.path.join(root,'csv_data',f'{file_name}.csv')\n",
    "\n",
    "students = student.get_students(student_num=30)\n",
    "students"
   ]
  }
 ],
 "metadata": {
  "kernelspec": {
   "display_name": "Python 3",
   "language": "python",
   "name": "python3"
  },
  "language_info": {
   "codemirror_mode": {
    "name": "ipython",
    "version": 3
   },
   "file_extension": ".py",
   "mimetype": "text/x-python",
   "name": "python",
   "nbconvert_exporter": "python",
   "pygments_lexer": "ipython3",
   "version": "3.10.12"
  },
  "orig_nbformat": 4
 },
 "nbformat": 4,
 "nbformat_minor": 2
}
